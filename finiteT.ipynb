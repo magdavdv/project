{
 "cells": [
  {
   "cell_type": "code",
   "execution_count": 27,
   "metadata": {},
   "outputs": [],
   "source": [
    "import numpy as np\n",
    "import scipy\n",
    "from scipy.integrate import solve_ivp\n",
    "import scipy.integrate as integrate\n",
    "from scipy.special import gamma, factorial, zeta, polygamma\n",
    "import matplotlib.pyplot as plt\n",
    "plt.style.use('seaborn')\n",
    "from scipy.signal import argrelextrema"
   ]
  },
  {
   "cell_type": "code",
   "execution_count": null,
   "metadata": {},
   "outputs": [],
   "source": [
    "def V0(phi, m, l):\n",
    "    \"\"\"\n",
    "    The tree level potential V(phi) = -1/2 m^2 phi^2 + l/4 phi^4\n",
    "    m is the tree-level mass and l the self-coupling, both should be positive\n",
    "\n",
    "    @param phi: our scalar field, should be array\n",
    "           m: the tree-level mass\n",
    "           l: the self-coupling\n",
    "    @return The effective potential at tree level\n",
    "    \"\"\"\n",
    "    return -m**2*phi**2/2 + l*phi**4/4"
   ]
  },
  {
   "cell_type": "code",
   "execution_count": null,
   "metadata": {},
   "outputs": [],
   "source": [
    "def JBexact(m, T):\n",
    "    \"\"\"\n",
    "    The exact calculation of the thermal bosonic function J_B\n",
    "    J_B[m^2/T^2] = int dx x^2 log[1 - exp(-sqrt(x^2 + m^2/T^2))] int from 0 to infinity\n",
    "    Used in the one-loop thermal correction to the effective potential\n",
    "\n",
    "    @param m: the mass of the boson, should be Python scalar, i.e no array\n",
    "           T: the temperature, should be Python scalar, i.e no array\n",
    "    @return JB: The thermal bosonic function\n",
    "    \"\"\"\n",
    "    # The integrand\n",
    "    f = lambda x: x**2*np.log(1 - np.exp(-np.sqrt(x**2 + m**2/T**2)))\n",
    "\n",
    "    # scipy.integrate.quad can only take python scalars as input hence no arrays\n",
    "    JB = integrate.quad(f, 0, np.inf)[0]\n",
    "    return JB"
   ]
  },
  {
   "cell_type": "code",
   "execution_count": null,
   "metadata": {},
   "outputs": [],
   "source": [
    "def JBhighTapprox(m, T):\n",
    "    \"\"\"\n",
    "    The high temperature expansion of the bosonic thermal function\n",
    "    J_B[m^2/T^2] = -pi^4/45 + pi^2/12*(m^2/T^2) - pi/6(m^2/T^2)^(3/2) \n",
    "                     (- 1/32*(m^2/T^2)^2 log(m^2/aB*T^2))                    aB = 16pi^2exp(3/2 - 2gamma_E), logaB = 5.4076\n",
    "                            (- 2*pi^(7/2) sum(-1)^n zeta(2n+1)/(n+1)! gamma(n+1/2) (m^2/(4pi^2T^2))^(n+2) with summation over n from 1 to infinity)\n",
    "                     (not yet implemented)\n",
    "\n",
    "    @param m: the mass of the boson\n",
    "           T: the temperature\n",
    "    @return JBapprox: The high T-approximation of the thermal bosonic function\n",
    "    \"\"\"\n",
    "    y = m**2/T**2\n",
    "    JBapprox = -np.pi**4/45 + np.pi**2/12*y - np.pi/6*y**(3/2)\n",
    "    return JBapprox\n",
    "    "
   ]
  },
  {
   "cell_type": "code",
   "execution_count": null,
   "metadata": {},
   "outputs": [],
   "source": [
    "def JFexact(m, T):\n",
    "    \"\"\"\n",
    "    The exact calculation of the fermionic thermal function J_F\n",
    "    J_B[m^2/T^2] = int dx x^2 log[1 + exp(-sqrt(x^2 + m^2/T^2))] int from 0 to infinity\n",
    "    Used in the one-loop thermal correction to the effective potential\n",
    "\n",
    "    @param m: the mass of the fermion, should be Python scalar, i.e no array\n",
    "           T: the temperature, should be Python scalar, i.e no array\n",
    "    @return JF: The thermal fermionic function\n",
    "    \"\"\"\n",
    "    # The integrand\n",
    "    f = lambda x: x**2*np.log(1 + np.exp(-np.sqrt(x**2 + m**2/T**2)))\n",
    "\n",
    "    # scipy.integrate.quad can only take python scalars as input hence no arrays\n",
    "    JF = integrate.quad(f, 0, np.inf)[0]\n",
    "    return JF"
   ]
  },
  {
   "cell_type": "code",
   "execution_count": null,
   "metadata": {},
   "outputs": [],
   "source": [
    "def JFhighTapprox(m, T):\n",
    "    \"\"\"\n",
    "    The high temperature expansion of the fermionic thermal function\n",
    "    J_B[m^2/T^2] = 7pi^4/360 - pi^2/24*(m^2/T^2)  \n",
    "                     (- 1/32*(m^2/T^2)^2 log(m^2/aF*T^2))                    aF = pi^2exp(3/2 - 2gamma_E), logaF = 2.6351\n",
    "                            (- pi^(7/2)/4 sum((-1)^n zeta(2n+1)/(n+1)! (1 - 2^(-2n-1))gamma(n+1/2) (m^2/(4pi^2T^2))^(n+2)) with summation over n from 1 to infinity)\n",
    "                     (not yet implemented)\n",
    "\n",
    "    @param m: the mass of the fermion\n",
    "           T: the temperature\n",
    "    @return JFapprox: The high T-approximation of the fermionic thermal function\n",
    "    \"\"\"\n",
    "    y = m**2/T**2\n",
    "    JFapprox = np.pi**4*7/360 - np.pi**2/24*y\n",
    "    return JFapprox"
   ]
  },
  {
   "cell_type": "code",
   "execution_count": null,
   "metadata": {},
   "outputs": [],
   "source": [
    "def V1Texact(mB, mF, nB, nF, T):\n",
    "    \"\"\"\n",
    "    The finite-temperature one-loop effective potential:\n",
    "    \n",
    "        V1T = T^4/(2pi^2)*[sum_B nB*JB(mB^2/T^2) + sum_F nF*JF(mF^2/T^2)]\n",
    "            where sum_B/F sum the bosons/fermions that couples to the scalar, \n",
    "            nB/F is the degree of freedom for each boson/fermion,\n",
    "            mB/F is the field dependent mass of each boson/fermion\n",
    "\n",
    "    \n",
    "    @param mB: the field dependent mass/masses of the boson/bosons, should be an array\n",
    "           mF: the field dependent mass/masses of the fermion/fermions, should be an array\n",
    "           nB: the degree of freedom for each boson, should be an array and equal length as mB\n",
    "           nF: the degree of freedom for each fermion, should be an array and equal length as mF\n",
    "           T: the temperature, should be Python scalar, i.e no array\n",
    "    @return tempPotential: The finite-temperature one-loop effective potential\n",
    "    \"\"\"\n",
    "    summation = 0\n",
    "\n",
    "    # For the function JBexact to work we need to recast mB and nB to 1-D arrays \n",
    "    if not isinstance(mB, np.ndarray) and not isinstance(nB, np.ndarray):\n",
    "        mB = np.array([mB])\n",
    "        nB = np.array([nB])\n",
    "\n",
    "    # Same for the fermionic part, we need to recast mF and nF to 1-D arrays \n",
    "    if not isinstance(mF, np.ndarray) and not isinstance(nF, np.ndarray):\n",
    "        mF = np.array([mF])\n",
    "        nF = np.array([nF])\n",
    "\n",
    "    # First sum the bosonic part, call the function JBexact that excepts no arrays\n",
    "    for i in range(mB.size):\n",
    "        summation += nB[i]*JBexact(mB[i], T)\n",
    "\n",
    "    # Sum the fermionic part, call the function JFexact\n",
    "    for i in range(mF.size):\n",
    "        summation += nF[i]*JFexact(mF[i], T)\n",
    "\n",
    "    tempPotential = T**4/(2*np.pi**2)*summation\n",
    "    return tempPotential\n"
   ]
  },
  {
   "cell_type": "code",
   "execution_count": 65,
   "metadata": {},
   "outputs": [],
   "source": [
    "def Veff(mB, mF, nB, nF, T, phi, m, l):\n",
    "    \"\"\"\n",
    "    The effective potential, the tree level potential + the finite-temperature one-loop:\n",
    "        Veff(phi, T) = V0(phi) + V1(phi, T)\n",
    "\n",
    "    @param mB: the field dependent mass/masses of the boson/bosons, should be an array\n",
    "           mF: the field dependent mass/masses of the fermion/fermions, should be an array\n",
    "           nB: the degree of freedom for each boson, should be an array and equal length as mB\n",
    "           nF: the degree of freedom for each fermion, should be an array and equal length as mF\n",
    "           T: the temperature\n",
    "           phi: our scalar field, should be array\n",
    "           m: the tree-level mass of the scalar\n",
    "           l: the self-coupling of the scalar\n",
    "    @return The effective potential\n",
    "    \"\"\"\n",
    "    \n",
    "    return V0(phi, m) + V1Texact(mB, mF, nB, nF, T)"
   ]
  },
  {
   "cell_type": "code",
   "execution_count": 39,
   "metadata": {},
   "outputs": [
    {
     "name": "stdout",
     "output_type": "stream",
     "text": [
      "[0.5 1.  0.5 0.  0. ]\n",
      "[0.5 1.  0.5 0.  0. ]\n"
     ]
    }
   ],
   "source": [
    "m1 = 0.5*1**2\n",
    "m2 = 1\n",
    "m1 = np.asanyarray(m1)\n",
    "m2 = np.asanyarray(m2)\n",
    "massSq = np.empty(m1.shape + (5,))\n",
    "print(massSq)\n",
    "massSq[0] = m1\n",
    "massSq[1] = m2\n",
    "print(massSq)"
   ]
  },
  {
   "cell_type": "code",
   "execution_count": 51,
   "metadata": {},
   "outputs": [
    {
     "name": "stdout",
     "output_type": "stream",
     "text": [
      "4.0\n",
      "-1.0332425147778947\n"
     ]
    },
    {
     "data": {
      "text/plain": [
       "14"
      ]
     },
     "execution_count": 51,
     "metadata": {},
     "output_type": "execute_result"
    }
   ],
   "source": [
    "T = 1\n",
    "m = 2\n",
    "y = m**2/T**2\n",
    "print(y)\n",
    "f = lambda x: x**2*np.log(1 - np.exp(-np.sqrt(x**2 + y)))\n",
    "JB = integrate.quad(f, 0, np.inf)[0]\n",
    "print(JB)\n",
    "\n",
    "a = np.array([1, 2, 3])\n",
    "b = np.array([1, 2, 3])\n",
    "np.sum(a*b)"
   ]
  },
  {
   "cell_type": "code",
   "execution_count": 64,
   "metadata": {},
   "outputs": [
    {
     "name": "stdout",
     "output_type": "stream",
     "text": [
      "<class 'int'>\n",
      "(1,)\n",
      "2\n"
     ]
    }
   ],
   "source": [
    "mB = 2\n",
    "print(type(mB))\n",
    "if not isinstance(mB, np.ndarray):\n",
    "        mB = np.array([mB])\n",
    "\n",
    "print(mB.shape)\n",
    "print(mB[0])"
   ]
  },
  {
   "cell_type": "code",
   "execution_count": 76,
   "metadata": {},
   "outputs": [
    {
     "data": {
      "text/plain": [
       "[<matplotlib.lines.Line2D at 0x276b43c54f0>]"
      ]
     },
     "execution_count": 76,
     "metadata": {},
     "output_type": "execute_result"
    },
    {
     "data": {
      "image/png": "[encoded data removed]",
      "text/plain": [
       "<Figure size 576x396 with 1 Axes>"
      ]
     },
     "metadata": {},
     "output_type": "display_data"
    }
   ],
   "source": [
    "\"\"\"\n",
    "Testing testing\n",
    "\"\"\"\n",
    "# Define a tree level potential V(phi) = -12^2/2*phi^2 + phi^4\n",
    "m = 12\n",
    "l = 4\n",
    "phi_span = np.linspace(-10, 10, 100)\n",
    "pot = V0(phi_span, m, l)\n",
    "\n",
    "# Plot the tree level potential\n",
    "plt.figure()\n",
    "plt.plot(phi_span, pot, label='$V(\\phi)$')\n",
    "\n",
    "# Define the field dependent masses\n",
    "# Phi\n",
    "mPhi = m**2 + l*phi_span**2/2 #oklar\n",
    "# Extra boson\n",
    "c = 1\n",
    "mX = c**2*phi_span**2\n",
    "\n",
    "# Behöver boson för att få termen ~Tphi^3 som ger 1st order PT kanske räcker med phi, alt lägg till extra boson\n",
    "\n"
   ]
  },
  {
   "cell_type": "markdown",
   "metadata": {},
   "source": [
    "TO DO:\n",
    "- fixa field dependent masses, array i 1-D/2-D till scalar i JB/Fexact\n",
    "- kolla integralen, går den att summera ihop för olika phi-värden som ger olika m-värden\n",
    "- sätta upp mB som ([e, n, b], [e, n, a, n, n, a, n])??\n",
    "- testa med approx ist, använda phi_span men kolla specifika temperaturer"
   ]
  },
  {
   "cell_type": "code",
   "execution_count": null,
   "metadata": {},
   "outputs": [],
   "source": []
  }
 ],
 "metadata": {
  "interpreter": {
   "hash": "52dff696ab1c4be4b24f803e2043b8d6b4b73fc009dcb4bd00dbdb7ee7a7ad64"
  },
  "kernelspec": {
   "display_name": "Python 3.9.9 64-bit (windows store)",
   "language": "python",
   "name": "python3"
  },
  "language_info": {
   "codemirror_mode": {
    "name": "ipython",
    "version": 3
   },
   "file_extension": ".py",
   "mimetype": "text/x-python",
   "name": "python",
   "nbconvert_exporter": "python",
   "pygments_lexer": "ipython3",
   "version": "3.9.9"
  },
  "orig_nbformat": 4
 },
 "nbformat": 4,
 "nbformat_minor": 2
}
